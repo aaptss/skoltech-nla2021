{
 "cells": [
  {
   "cell_type": "code",
   "execution_count": 1,
   "id": "tough-chosen",
   "metadata": {},
   "outputs": [],
   "source": [
    "import numpy as np\n",
    "import tensorly as tl\n",
    "import scipy.stats as st\n",
    "import matplotlib.pyplot as plt\n",
    "from tensorly.decomposition import tucker, parafac, non_negative_tucker"
   ]
  },
  {
   "cell_type": "code",
   "execution_count": 2,
   "id": "north-satisfaction",
   "metadata": {},
   "outputs": [],
   "source": [
    "raw = np.load(\"tenx.npy\")"
   ]
  },
  {
   "cell_type": "code",
   "execution_count": 3,
   "id": "postal-august",
   "metadata": {},
   "outputs": [
    {
     "data": {
      "text/plain": [
       "(23, 1000, 1999)"
      ]
     },
     "execution_count": 3,
     "metadata": {},
     "output_type": "execute_result"
    }
   ],
   "source": [
    "raw.shape"
   ]
  },
  {
   "cell_type": "markdown",
   "id": "dress-manual",
   "metadata": {},
   "source": [
    "# 2D case"
   ]
  },
  {
   "cell_type": "code",
   "execution_count": 4,
   "id": "small-ladder",
   "metadata": {},
   "outputs": [],
   "source": [
    "core, factors = tucker(raw.reshape(23000, 1999), rank=[1000, 2])"
   ]
  },
  {
   "cell_type": "code",
   "execution_count": 5,
   "id": "serial-salmon",
   "metadata": {},
   "outputs": [],
   "source": [
    "pfactors = parafac(raw.reshape(23000,1999), 2)"
   ]
  },
  {
   "cell_type": "code",
   "execution_count": 6,
   "id": "golden-florist",
   "metadata": {},
   "outputs": [
    {
     "data": {
      "text/plain": [
       "((1000, 2), [(23000, 1000), (1999, 2)])"
      ]
     },
     "execution_count": 6,
     "metadata": {},
     "output_type": "execute_result"
    }
   ],
   "source": [
    "core.shape, [a.shape for a in factors]"
   ]
  },
  {
   "cell_type": "code",
   "execution_count": 7,
   "id": "violent-freedom",
   "metadata": {},
   "outputs": [
    {
     "data": {
      "text/plain": [
       "(23000, 2)"
      ]
     },
     "execution_count": 7,
     "metadata": {},
     "output_type": "execute_result"
    }
   ],
   "source": [
    "(factors[0]@core).shape"
   ]
  },
  {
   "cell_type": "code",
   "execution_count": 8,
   "id": "specialized-python",
   "metadata": {},
   "outputs": [],
   "source": [
    "PCT = factors[0]@core"
   ]
  },
  {
   "cell_type": "code",
   "execution_count": 9,
   "id": "involved-spencer",
   "metadata": {},
   "outputs": [],
   "source": [
    "PCPF = pfactors[1][0]"
   ]
  },
  {
   "cell_type": "code",
   "execution_count": 10,
   "id": "capable-procedure",
   "metadata": {},
   "outputs": [
    {
     "data": {
      "text/plain": [
       "<matplotlib.collections.PathCollection at 0x7ff58d50f940>"
      ]
     },
     "execution_count": 10,
     "metadata": {},
     "output_type": "execute_result"
    },
    {
     "data": {
      "image/png": "[encoded data removed]",
      "text/plain": [
       "<Figure size 432x288 with 1 Axes>"
      ]
     },
     "metadata": {
      "needs_background": "light"
     },
     "output_type": "display_data"
    }
   ],
   "source": [
    "plt.scatter(PCT.T[0], PCT.T[1])"
   ]
  },
  {
   "cell_type": "code",
   "execution_count": 11,
   "id": "imported-importance",
   "metadata": {},
   "outputs": [],
   "source": [
    "from sklearn.metrics import pairwise_distances"
   ]
  },
  {
   "cell_type": "code",
   "execution_count": 12,
   "id": "major-barrel",
   "metadata": {},
   "outputs": [],
   "source": [
    "def triu_dists(d):\n",
    "    triui = np.triu_indices(d.shape[0])    \n",
    "    return(d[triui])"
   ]
  },
  {
   "cell_type": "code",
   "execution_count": 13,
   "id": "numeric-orleans",
   "metadata": {},
   "outputs": [],
   "source": [
    "d_orig = pairwise_distances(raw.reshape(23000, 1999))"
   ]
  },
  {
   "cell_type": "code",
   "execution_count": 14,
   "id": "hindu-cheese",
   "metadata": {},
   "outputs": [],
   "source": [
    "d_tucker = pairwise_distances(PCT)"
   ]
  },
  {
   "cell_type": "code",
   "execution_count": 15,
   "id": "micro-seminar",
   "metadata": {},
   "outputs": [],
   "source": [
    "d_orig_flat = triu_dists(d_orig)\n",
    "d_tucker_flat = triu_dists(d_tucker)"
   ]
  },
  {
   "cell_type": "code",
   "execution_count": 16,
   "id": "taken-canal",
   "metadata": {},
   "outputs": [],
   "source": [
    "d_orig_flat = d_orig_flat/np.max(d_orig_flat)\n",
    "d_tucker_flat = d_tucker_flat/np.max(d_tucker_flat)"
   ]
  },
  {
   "cell_type": "code",
   "execution_count": 17,
   "id": "outstanding-castle",
   "metadata": {},
   "outputs": [
    {
     "data": {
      "text/plain": [
       "(0.5059874812565299, 0.0)"
      ]
     },
     "execution_count": 17,
     "metadata": {},
     "output_type": "execute_result"
    }
   ],
   "source": [
    "st.pearsonr(d_orig_flat, d_tucker_flat)"
   ]
  },
  {
   "cell_type": "code",
   "execution_count": 40,
   "id": "complex-vertical",
   "metadata": {
    "scrolled": true
   },
   "outputs": [
    {
     "data": {
      "image/png": "[encoded data removed]",
      "text/plain": [
       "<Figure size 432x288 with 1 Axes>"
      ]
     },
     "metadata": {
      "needs_background": "light"
     },
     "output_type": "display_data"
    }
   ],
   "source": [
    "plt.hist(d_orig, color=(1,0,0,0.4), bins=200)\n",
    "plt.hist(d_tucker, color=(0,1,0,0.4), bins=200)\n",
    "plt.show()"
   ]
  },
  {
   "cell_type": "code",
   "execution_count": null,
   "id": "monetary-stone",
   "metadata": {},
   "outputs": [],
   "source": [
    "def getCliques(known_values):\n",
    "  adjacency_matrix = known_values.astype(int)\n",
    "  rows, cols = np.where(adjacency_matrix == 1)\n",
    "  edges = zip(rows.tolist(), cols.tolist())\n",
    "  gr = nx.Graph()\n",
    "  all_rows = range(0, adjacency_matrix.shape[0])\n",
    "  for n in all_rows:\n",
    "    gr.add_node(n)\n",
    "\n",
    "  gr.add_edges_from(edges)\n",
    "\n",
    "\n",
    "  cliques = list(nx.find_cliques(gr))\n",
    "\n",
    "  #Look at number of cells in cliques (sizes)\n",
    "  print(np.unique([len(i) for i in cliques])) \n",
    "\n",
    "  print(len(cliques))\n",
    "\n",
    "  return cliques"
   ]
  },
  {
   "cell_type": "code",
   "execution_count": 36,
   "id": "together-princeton",
   "metadata": {},
   "outputs": [
    {
     "data": {
      "image/png": "[encoded data removed]",
      "text/plain": [
       "<Figure size 432x288 with 1 Axes>"
      ]
     },
     "metadata": {
      "needs_background": "light"
     },
     "output_type": "display_data"
    }
   ],
   "source": [
    "plt.hist(d_parafac, color=(0,0,1,0.4), bins=200)\n",
    "plt.show()"
   ]
  }
 ],
 "metadata": {
  "kernelspec": {
   "display_name": "Python 3",
   "language": "python",
   "name": "python3"
  },
  "language_info": {
   "codemirror_mode": {
    "name": "ipython",
    "version": 3
   },
   "file_extension": ".py",
   "mimetype": "text/x-python",
   "name": "python",
   "nbconvert_exporter": "python",
   "pygments_lexer": "ipython3",
   "version": "3.8.8"
  }
 },
 "nbformat": 4,
 "nbformat_minor": 5
}
