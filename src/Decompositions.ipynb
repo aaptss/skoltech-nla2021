{
 "cells": [
  {
   "cell_type": "code",
   "execution_count": 1,
   "id": "tough-chosen",
   "metadata": {},
   "outputs": [],
   "source": [
    "import numpy as np\n",
    "import tensorly as tl\n",
    "import matplotlib.pyplot as plt\n",
    "from tensorly.decomposition import tucker, parafac, non_negative_tucker"
   ]
  },
  {
   "cell_type": "code",
   "execution_count": 2,
   "id": "north-satisfaction",
   "metadata": {},
   "outputs": [],
   "source": [
    "raw = np.load(\"tenx.npy\")"
   ]
  },
  {
   "cell_type": "code",
   "execution_count": 3,
   "id": "postal-august",
   "metadata": {},
   "outputs": [
    {
     "data": {
      "text/plain": [
       "(23, 1000, 1999)"
      ]
     },
     "execution_count": 3,
     "metadata": {},
     "output_type": "execute_result"
    }
   ],
   "source": [
    "raw.shape"
   ]
  },
  {
   "cell_type": "markdown",
   "id": "hawaiian-enzyme",
   "metadata": {},
   "source": [
    "### Tucker"
   ]
  },
  {
   "cell_type": "code",
   "execution_count": 4,
   "id": "reverse-salmon",
   "metadata": {},
   "outputs": [],
   "source": [
    "core, factors = tucker(raw, rank=[23, 1, 2])"
   ]
  },
  {
   "cell_type": "code",
   "execution_count": 5,
   "id": "intellectual-yellow",
   "metadata": {},
   "outputs": [
    {
     "data": {
      "text/plain": [
       "(23, 1, 2)"
      ]
     },
     "execution_count": 5,
     "metadata": {},
     "output_type": "execute_result"
    }
   ],
   "source": [
    "core.shape"
   ]
  },
  {
   "cell_type": "code",
   "execution_count": 6,
   "id": "smoking-insulin",
   "metadata": {},
   "outputs": [
    {
     "data": {
      "text/plain": [
       "(23, 23)"
      ]
     },
     "execution_count": 6,
     "metadata": {},
     "output_type": "execute_result"
    }
   ],
   "source": [
    "factors[0].shape"
   ]
  },
  {
   "cell_type": "code",
   "execution_count": 7,
   "id": "upper-childhood",
   "metadata": {},
   "outputs": [
    {
     "data": {
      "text/plain": [
       "<matplotlib.image.AxesImage at 0x7f272df91c70>"
      ]
     },
     "execution_count": 7,
     "metadata": {},
     "output_type": "execute_result"
    },
    {
     "data": {
      "image/png": "[encoded data removed]",
      "text/plain": [
       "<Figure size 432x288 with 1 Axes>"
      ]
     },
     "metadata": {
      "needs_background": "light"
     },
     "output_type": "display_data"
    }
   ],
   "source": [
    "plt.imshow(factors[0])"
   ]
  },
  {
   "cell_type": "code",
   "execution_count": 8,
   "id": "obvious-infection",
   "metadata": {},
   "outputs": [
    {
     "data": {
      "text/plain": [
       "(1000, 1)"
      ]
     },
     "execution_count": 8,
     "metadata": {},
     "output_type": "execute_result"
    }
   ],
   "source": [
    "factors[1].shape"
   ]
  },
  {
   "cell_type": "code",
   "execution_count": 9,
   "id": "advance-cathedral",
   "metadata": {},
   "outputs": [
    {
     "data": {
      "text/plain": [
       "(1999, 2)"
      ]
     },
     "execution_count": 9,
     "metadata": {},
     "output_type": "execute_result"
    }
   ],
   "source": [
    "factors[2].shape"
   ]
  },
  {
   "cell_type": "code",
   "execution_count": 20,
   "id": "executed-thesaurus",
   "metadata": {},
   "outputs": [
    {
     "data": {
      "text/plain": [
       "<matplotlib.collections.PathCollection at 0x7f2743eff340>"
      ]
     },
     "execution_count": 20,
     "metadata": {},
     "output_type": "execute_result"
    },
    {
     "data": {
      "image/png": "[encoded data removed]",
      "text/plain": [
       "<Figure size 432x288 with 1 Axes>"
      ]
     },
     "metadata": {
      "needs_background": "light"
     },
     "output_type": "display_data"
    }
   ],
   "source": [
    "plt.scatter(factors[2].T[0], factors[2].T[1])"
   ]
  },
  {
   "cell_type": "code",
   "execution_count": 10,
   "id": "aerial-luther",
   "metadata": {},
   "outputs": [
    {
     "data": {
      "text/plain": [
       "<matplotlib.collections.PathCollection at 0x7f272de81e80>"
      ]
     },
     "execution_count": 10,
     "metadata": {},
     "output_type": "execute_result"
    },
    {
     "data": {
      "image/png": "[encoded data removed]",
      "text/plain": [
       "<Figure size 432x288 with 1 Axes>"
      ]
     },
     "metadata": {
      "needs_background": "light"
     },
     "output_type": "display_data"
    }
   ],
   "source": [
    "plt.scatter(core[:,:,0], core[:,:,1])"
   ]
  },
  {
   "cell_type": "markdown",
   "id": "destroyed-shame",
   "metadata": {},
   "source": [
    "### PARAFAC"
   ]
  },
  {
   "cell_type": "code",
   "execution_count": 11,
   "id": "about-temperature",
   "metadata": {},
   "outputs": [],
   "source": [
    "pfactors = parafac(raw, 2)"
   ]
  },
  {
   "cell_type": "code",
   "execution_count": 14,
   "id": "surprised-austria",
   "metadata": {},
   "outputs": [
    {
     "data": {
      "text/plain": [
       "(2,)"
      ]
     },
     "execution_count": 14,
     "metadata": {},
     "output_type": "execute_result"
    }
   ],
   "source": [
    "pfactors[0].shape"
   ]
  },
  {
   "cell_type": "code",
   "execution_count": 15,
   "id": "orange-connectivity",
   "metadata": {},
   "outputs": [
    {
     "data": {
      "text/plain": [
       "(23, 2)"
      ]
     },
     "execution_count": 15,
     "metadata": {},
     "output_type": "execute_result"
    }
   ],
   "source": [
    "pfactors[1][0].shape"
   ]
  },
  {
   "cell_type": "code",
   "execution_count": 16,
   "id": "rental-fields",
   "metadata": {},
   "outputs": [
    {
     "data": {
      "text/plain": [
       "(1000, 2)"
      ]
     },
     "execution_count": 16,
     "metadata": {},
     "output_type": "execute_result"
    }
   ],
   "source": [
    "pfactors[1][1].shape"
   ]
  },
  {
   "cell_type": "code",
   "execution_count": 17,
   "id": "medical-trial",
   "metadata": {},
   "outputs": [
    {
     "data": {
      "text/plain": [
       "(1999, 2)"
      ]
     },
     "execution_count": 17,
     "metadata": {},
     "output_type": "execute_result"
    }
   ],
   "source": [
    "pfactors[1][2].shape"
   ]
  },
  {
   "cell_type": "code",
   "execution_count": 19,
   "id": "reliable-republic",
   "metadata": {},
   "outputs": [
    {
     "data": {
      "text/plain": [
       "(23, 1000)"
      ]
     },
     "execution_count": 19,
     "metadata": {},
     "output_type": "execute_result"
    }
   ],
   "source": [
    "(pfactors[1][0]@pfactors[1][1].T).shape"
   ]
  },
  {
   "cell_type": "code",
   "execution_count": 36,
   "id": "rural-warning",
   "metadata": {},
   "outputs": [
    {
     "data": {
      "text/plain": [
       "(23, 1000)"
      ]
     },
     "execution_count": 36,
     "metadata": {},
     "output_type": "execute_result"
    }
   ],
   "source": [
    "(factors[1][0]@factors[1][1].T).shape"
   ]
  },
  {
   "cell_type": "code",
   "execution_count": 33,
   "id": "composite-pilot",
   "metadata": {},
   "outputs": [
    {
     "data": {
      "text/plain": [
       "<matplotlib.collections.PathCollection at 0x7f770a3effd0>"
      ]
     },
     "execution_count": 33,
     "metadata": {},
     "output_type": "execute_result"
    },
    {
     "data": {
      "image/png": "[encoded data removed]",
      "text/plain": [
       "<Figure size 432x288 with 1 Axes>"
      ]
     },
     "metadata": {
      "needs_background": "light"
     },
     "output_type": "display_data"
    }
   ],
   "source": [
    "plt.scatter(factors[1][0].T[0], factors[1][0].T[1], c=np.arange(23))"
   ]
  },
  {
   "cell_type": "markdown",
   "id": "random-andrew",
   "metadata": {},
   "source": [
    "### Tensor Train"
   ]
  },
  {
   "cell_type": "code",
   "execution_count": null,
   "id": "decent-chamber",
   "metadata": {},
   "outputs": [],
   "source": []
  }
 ],
 "metadata": {
  "kernelspec": {
   "display_name": "Python 3",
   "language": "python",
   "name": "python3"
  },
  "language_info": {
   "codemirror_mode": {
    "name": "ipython",
    "version": 3
   },
   "file_extension": ".py",
   "mimetype": "text/x-python",
   "name": "python",
   "nbconvert_exporter": "python",
   "pygments_lexer": "ipython3",
   "version": "3.8.8"
  }
 },
 "nbformat": 4,
 "nbformat_minor": 5
}
