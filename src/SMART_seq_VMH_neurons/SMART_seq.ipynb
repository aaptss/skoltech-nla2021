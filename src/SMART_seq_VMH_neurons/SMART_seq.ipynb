{
 "cells": [
  {
   "cell_type": "code",
   "execution_count": null,
   "id": "a388a302-993d-4ab5-a62f-1d41f8182cbb",
   "metadata": {},
   "outputs": [],
   "source": []
  },
  {
   "cell_type": "markdown",
   "id": "4519757e-62e3-4505-9423-ad1de704391f",
   "metadata": {
    "id": "mvV2B9aF2H90"
   },
   "source": [
    "для Катруцы надо пояснить (из его фидкека): \n",
    "- что такое Транскиптомика \n",
    "- Как оценивается эффективность визуализаций\n",
    "\n",
    "Ссылка на тензорли: \n",
    "Jean Kossaifi, Yannis Panagakis, Anima Anandkumar and Maja Pantic, **TensorLy: Tensor Learning in Python**, _Journal of Machine Learning Research (JMLR)_, 2019, volume 20, number 26.\n",
    "```\n",
    "Jean Kossaifi, Yannis Panagakis, Anima Anandkumar and Maja Pantic, **TensorLy: Tensor Learning in Python**, __Journal of Machine Learning Research (JMLR)__, 2019, volume 20, number 26.\n",
    "```\n",
    "\n",
    "alternatively\n",
    "```\n",
    "@article{tensorly,\n",
    "  author  = {Jean Kossaifi and Yannis Panagakis and Anima Anandkumar and Maja Pantic},\n",
    "  title   = {TensorLy: Tensor Learning in Python},\n",
    "  journal = {Journal of Machine Learning Research},\n",
    "  year    = {2019},\n",
    "  volume  = {20},\n",
    "  number  = {26},\n",
    "  pages   = {1-6},\n",
    "  url     = {http://jmlr.org/papers/v20/18-277.html}\n",
    "}\n",
    "```"
   ]
  },
  {
   "cell_type": "markdown",
   "id": "3cdcd061-edf9-428f-9f96-2172b94f5949",
   "metadata": {
    "id": "mvV2B9aF2H90"
   },
   "source": [
    "ventromedial hypothalamus (VMH)\n"
   ]
  },
  {
   "cell_type": "markdown",
   "id": "e640638b-16a9-41f3-b9e1-7c3531a9d16a",
   "metadata": {
    "id": "JfPA9vXh0X3r"
   },
   "source": [
    "**Numerical Linear Tensor Kittens**\n",
    "- Bogdan Kirillov\n",
    "- Arman Petrosyants\n",
    "- Svetlana Pavlova\n",
    "- Dmitry Prodan\n",
    "\n",
    "**Tensor factorization for transcriptomics**\\\n",
    "Low-dimensional data visualizations, such as t-SNE and UMAP, are among the most commonly used methods in transcriptomics. Unfortunately, due to the properties of t-SNE and UMAP, they have attracted a lot of criticism recently [1] as they fail to capture the global structure of the transcriptomics datasets. The goal of the project is to check whether we can substitute t-SNE and UMAP with matrix and tensor factorizations, such as SVD, PARAFAC [2], Tucker [3] and Tensor Train [4]. We plan to use the TensorLy library for our computations [5]. While tensor decompositions have been successfully used in transcriptomics [6,7], there yet to be a comparison of them to t-SNE and UMAP with respect to distortion analysis, similar to [1].\n",
    "\n",
    "In-use:\n",
    "- SVD\n",
    "- Higher-order SVD\n",
    "- PARAFAC\n",
    "- Tucker decomposition\n",
    "- Tensor Train.\n",
    "\n",
    "References:\n",
    "1. https://www.biorxiv.org/content/10.1101/2021.08.25.457696v1\n",
    "2. https://www.sciencedirect.com/science/article/abs/pii/S0169743997000324\n",
    "3. https://www.alexejgossmann.com/tensor_decomposition_tucker/\n",
    "4. https://epubs.siam.org/doi/abs/10.1137/090752286?journalCode=sjoce3\n",
    "5. http://tensorly.org/stable/index.html\n",
    "6. https://www.nature.com/articles/ng.3624?proof=t\n",
    "7. https://arxiv.org/abs/1702.07449"
   ]
  },
  {
   "cell_type": "markdown",
   "id": "ad186783-11ef-4348-a201-fdacb057a1e9",
   "metadata": {
    "colab": {
     "base_uri": "https://localhost:8080/",
     "height": 52
    },
    "id": "RTFnpmBJwzbX",
    "outputId": "2c449ef5-bf48-4470-8c80-f7e448ff1961"
   },
   "source": [
    "SMART_Seq VMN Neurons: \n",
    "- pairwise distance в исходном виде \n",
    "- pairwise distance после dimensionality reduction, \n",
    "\n",
    "из библиотек tensorly.\n",
    "- Tucker, \n",
    "- Parafac, \n",
    "- Tensor Train \n",
    "- High-order SVD "
   ]
  },
  {
   "cell_type": "markdown",
   "id": "c0f62e7e-074c-4fa7-bfc5-bc58c0f1ccbb",
   "metadata": {
    "colab": {
     "base_uri": "https://localhost:8080/",
     "height": 52
    },
    "id": "RTFnpmBJwzbX",
    "outputId": "2c449ef5-bf48-4470-8c80-f7e448ff1961"
   },
   "source": [
    "# Import and Handling"
   ]
  },
  {
   "cell_type": "code",
   "execution_count": 4,
   "id": "a7a3198b-07de-4f43-a15f-16b1c9f8ad67",
   "metadata": {
    "id": "BfAmtk_f2SQT"
   },
   "outputs": [],
   "source": [
    "# !pip install -U --quiet tensorly anndata einops scikit-learn\n",
    "import einops\n",
    "import scipy.io as sio\n",
    "import numpy as np\n",
    "import pandas as pd\n",
    "import tensorly as tl\n",
    "import matplotlib.pyplot as plt"
   ]
  },
  {
   "cell_type": "code",
   "execution_count": 5,
   "id": "fb9f3233-5532-43a9-b453-be39a8e43900",
   "metadata": {
    "colab": {
     "base_uri": "https://localhost:8080/",
     "height": 34
    },
    "id": "L66z4D0j3PUC",
    "outputId": "d2e49e4c-f042-44b4-94db-3063a6ee48ba"
   },
   "outputs": [],
   "source": [
    "\"\"\"\n",
    "smartseq.csv\n",
    "smartseq.mtx \n",
    "smartseq_raw.mtx -> smartseq_hvg_raw.mtx\n",
    "metadata.csv     -> smartseq_obs.csv \n",
    "gene_names.npy   -> SM_gene_names.npy\n",
    "\"\"\"\n",
    "data_path = \".\" "
   ]
  },
  {
   "cell_type": "code",
   "execution_count": 6,
   "id": "5d7c43ca-ca19-49f7-a3ac-13c51b46989b",
   "metadata": {
    "colab": {
     "base_uri": "https://localhost:8080/"
    },
    "id": "nSg1kgTIFea5",
    "outputId": "54be5c80-cad7-4f30-e9b5-2936c855d94b"
   },
   "outputs": [],
   "source": [
    "smartseqmtx = sio.mmread(data_path + \"/smartseq.mtx\")"
   ]
  },
  {
   "cell_type": "code",
   "execution_count": 7,
   "id": "6bb67a3e-3bd0-4ff5-96bc-7c9e5279fed3",
   "metadata": {
    "colab": {
     "base_uri": "https://localhost:8080/"
    },
    "id": "nSg1kgTIFea5",
    "outputId": "54be5c80-cad7-4f30-e9b5-2936c855d94b"
   },
   "outputs": [],
   "source": [
    "smartseq_obs = pd.read_csv(data_path + \"/smartseq_obs.csv\", index_col=0)\n",
    "smartseq_obs.index = pd.Index([i for i in range(max(smartseq_obs.shape))])\n",
    "\n",
    "rexp = \"(?<=\\_)(S.*?)(?=$|\\_)\"\n",
    "ms = [item for sublist in smartseq_obs.sample_name.str.findall(rexp) for item in sublist]\n",
    "smartseq_obs.insert(0, \"master_sample\", ms)\n",
    "\n",
    "to_keep = list(filter(lambda x: x[1]>19, list(\n",
    "    sorted(\n",
    "        list(zip(*np.unique(smartseq_obs.master_sample.values, return_counts=True))), \n",
    "        key=lambda x: x[1]\n",
    "    )\n",
    ")))\n",
    "\n",
    "to_keep = [a[0] for a in to_keep]\n",
    "to_keep = [a in to_keep for a in smartseq_obs.master_sample]\n",
    "smartseq_obs = smartseq_obs[to_keep]\n",
    "\n",
    "\n",
    "to_keep = []\n",
    "to_keep_sn = []\n",
    "for a in smartseq_obs.groupby(\"master_sample\"):\n",
    "    to_keep_sn.extend([a[0]]*20)\n",
    "    to_keep.extend(a[1].index.values[0:20])\n",
    "\n",
    "to_keep = pd.DataFrame({\"n\": to_keep, \"sn\": to_keep_sn})\n",
    "\n",
    "smartseq_obs = smartseq_obs[smartseq_obs.index.isin(to_keep.n.values)]"
   ]
  },
  {
   "cell_type": "code",
   "execution_count": 8,
   "id": "1fcc9ee7-4e6d-4748-ba15-233d8aa33b86",
   "metadata": {
    "colab": {
     "base_uri": "https://localhost:8080/"
    },
    "id": "nSg1kgTIFea5",
    "outputId": "54be5c80-cad7-4f30-e9b5-2936c855d94b"
   },
   "outputs": [],
   "source": [
    "sns = to_keep[\"sn\"].unique().tolist()\n",
    "\n",
    "to_keep[\"sample_axis\"] = to_keep[\"sn\"].apply(lambda a: sns.index(a))"
   ]
  },
  {
   "cell_type": "code",
   "execution_count": 9,
   "id": "e7dfd8f1-e999-4146-8279-356b4672ce56",
   "metadata": {
    "colab": {
     "base_uri": "https://localhost:8080/"
    },
    "id": "nSg1kgTIFea5",
    "outputId": "54be5c80-cad7-4f30-e9b5-2936c855d94b"
   },
   "outputs": [
    {
     "name": "stdout",
     "output_type": "stream",
     "text": [
      "(1900, 1999)\n"
     ]
    },
    {
     "data": {
      "text/plain": [
       "95"
      ]
     },
     "execution_count": 9,
     "metadata": {},
     "output_type": "execute_result"
    }
   ],
   "source": [
    "tens = smartseqmtx[to_keep[\"n\"].values, :]\n",
    "print(tens.shape)\n",
    "smartseq_obs.master_sample.nunique()"
   ]
  },
  {
   "cell_type": "code",
   "execution_count": 10,
   "id": "c4f3e9a0-e709-4d5e-a698-aebcc7fe7842",
   "metadata": {
    "colab": {
     "base_uri": "https://localhost:8080/"
    },
    "id": "nSg1kgTIFea5",
    "outputId": "54be5c80-cad7-4f30-e9b5-2936c855d94b"
   },
   "outputs": [
    {
     "data": {
      "text/plain": [
       "95"
      ]
     },
     "execution_count": 10,
     "metadata": {},
     "output_type": "execute_result"
    }
   ],
   "source": [
    "tens = einops.rearrange(tens, '(s c) g -> s c g', s=smartseq_obs.master_sample.nunique(), c=20)\n",
    "tens.shape[0]"
   ]
  },
  {
   "cell_type": "markdown",
   "id": "d6c31c9b-28ea-4abf-a34e-1c1aeb6301c3",
   "metadata": {},
   "source": [
    "# Decompositions"
   ]
  },
  {
   "cell_type": "code",
   "execution_count": 15,
   "id": "c7385f25-8b26-4df9-ad58-9ef179948e52",
   "metadata": {},
   "outputs": [],
   "source": [
    "$ git reset --soft HEAD~1"
   ]
  },
  {
   "cell_type": "markdown",
   "id": "8da6f3cb-f8bf-4093-b492-c9aee8df14ee",
   "metadata": {},
   "source": [
    "## 2-D case"
   ]
  },
  {
   "cell_type": "code",
   "execution_count": 12,
   "id": "ba18ce5d-6a46-4b99-8044-b7c8a726459d",
   "metadata": {},
   "outputs": [
    {
     "data": {
      "text/plain": [
       "((1000, 2), [(1900, 1000), (1999, 2)])"
      ]
     },
     "execution_count": 12,
     "metadata": {},
     "output_type": "execute_result"
    }
   ],
   "source": [
    "sh_2d = (tens.shape[0]*tens.shape[1], tens.shape[2])\n",
    "core, factors = tl.decomposition.tucker(tens.reshape(sh_2d), rank=[1000, 2])\n",
    "pfactors = tl.decomposition.parafac(tens.reshape(sh_2d), 2)\n",
    "core.shape, [a.shape for a in factors]"
   ]
  },
  {
   "cell_type": "code",
   "execution_count": 13,
   "id": "348afc91-497d-46f7-92a0-7059b0bfc561",
   "metadata": {},
   "outputs": [
    {
     "data": {
      "text/plain": [
       "(1900, 2)"
      ]
     },
     "execution_count": 13,
     "metadata": {},
     "output_type": "execute_result"
    }
   ],
   "source": [
    "(factors[0]@core).shape"
   ]
  },
  {
   "cell_type": "code",
   "execution_count": 14,
   "id": "d47e82f6-8356-4f82-bd89-1db337acc4e9",
   "metadata": {},
   "outputs": [
    {
     "data": {
      "text/plain": [
       "<matplotlib.collections.PathCollection at 0x7fbf9783efa0>"
      ]
     },
     "execution_count": 14,
     "metadata": {},
     "output_type": "execute_result"
    },
    {
     "data": {
      "image/png": "[encoded data removed]",
      "text/plain": [
       "<Figure size 432x288 with 1 Axes>"
      ]
     },
     "metadata": {
      "needs_background": "light"
     },
     "output_type": "display_data"
    }
   ],
   "source": [
    "PCT = factors[0]@core\n",
    "PCPF = pfactors[1][0]\n",
    "plt.scatter(PCT.T[0], PCT.T[1])"
   ]
  },
  {
   "cell_type": "code",
   "execution_count": null,
   "id": "b6dc31c2-ec5c-4a3a-b413-95bb84d970fb",
   "metadata": {},
   "outputs": [],
   "source": []
  },
  {
   "cell_type": "code",
   "execution_count": null,
   "id": "62587a6a-64a6-4c98-9cc1-9f78a8ff0d71",
   "metadata": {},
   "outputs": [],
   "source": []
  }
 ],
 "metadata": {
  "kernelspec": {
   "display_name": "Python 3 (ipykernel)",
   "language": "python",
   "name": "python3"
  },
  "language_info": {
   "codemirror_mode": {
    "name": "ipython",
    "version": 3
   },
   "file_extension": ".py",
   "mimetype": "text/x-python",
   "name": "python",
   "nbconvert_exporter": "python",
   "pygments_lexer": "ipython3",
   "version": "3.8.10"
  }
 },
 "nbformat": 4,
 "nbformat_minor": 5
}
