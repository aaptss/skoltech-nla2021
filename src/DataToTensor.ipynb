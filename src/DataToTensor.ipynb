{
 "cells": [
  {
   "cell_type": "markdown",
   "id": "nuclear-wages",
   "metadata": {},
   "source": [
    "### Load the data"
   ]
  },
  {
   "cell_type": "code",
   "execution_count": 1,
   "id": "recent-warrior",
   "metadata": {},
   "outputs": [],
   "source": [
    "import einops\n",
    "import scipy.sparse as sparse\n",
    "import scipy.io as sio\n",
    "import scipy.stats as stats\n",
    "import numpy as np\n",
    "import pandas as pd\n",
    "import tensorly as tl\n",
    "import matplotlib.pyplot as plt"
   ]
  },
  {
   "cell_type": "code",
   "execution_count": 2,
   "id": "swedish-motel",
   "metadata": {},
   "outputs": [],
   "source": [
    "tenx = sio.mmread(\"../data/tenx.mtx\")"
   ]
  },
  {
   "cell_type": "code",
   "execution_count": 3,
   "id": "disturbed-duration",
   "metadata": {},
   "outputs": [],
   "source": [
    "tenx_obs = pd.read_csv(\"../data/tenx_obs.csv\", index_col=0)"
   ]
  },
  {
   "cell_type": "markdown",
   "id": "blessed-relaxation",
   "metadata": {},
   "source": [
    "### Delete every sample less than 1000 values"
   ]
  },
  {
   "cell_type": "code",
   "execution_count": 4,
   "id": "urban-graham",
   "metadata": {},
   "outputs": [],
   "source": [
    "to_keep = list(filter(lambda x: x[1]>1000, list(\n",
    "    sorted(\n",
    "        list(zip(*np.unique(tenx_obs[\"sample_name\"].values, return_counts=True))), \n",
    "        key=lambda x: x[1]\n",
    "    )\n",
    ")))\n",
    "to_keep = [a[0] for a in to_keep]\n",
    "to_keep = [a in to_keep for a in tenx_obs[\"sample_name\"]]"
   ]
  },
  {
   "cell_type": "code",
   "execution_count": 5,
   "id": "suffering-password",
   "metadata": {},
   "outputs": [
    {
     "data": {
      "text/plain": [
       "(41580, 13)"
      ]
     },
     "execution_count": 5,
     "metadata": {},
     "output_type": "execute_result"
    }
   ],
   "source": [
    "tenx_obs.shape"
   ]
  },
  {
   "cell_type": "code",
   "execution_count": 43,
   "id": "macro-presentation",
   "metadata": {},
   "outputs": [
    {
     "data": {
      "text/html": [
       "<div>\n",
       "<style scoped>\n",
       "    .dataframe tbody tr th:only-of-type {\n",
       "        vertical-align: middle;\n",
       "    }\n",
       "\n",
       "    .dataframe tbody tr th {\n",
       "        vertical-align: top;\n",
       "    }\n",
       "\n",
       "    .dataframe thead th {\n",
       "        text-align: right;\n",
       "    }\n",
       "</style>\n",
       "<table border=\"1\" class=\"dataframe\">\n",
       "  <thead>\n",
       "    <tr style=\"text-align: right;\">\n",
       "      <th></th>\n",
       "      <th>sample_name</th>\n",
       "      <th>cell_barcode</th>\n",
       "      <th>cluster_color</th>\n",
       "      <th>cluster</th>\n",
       "      <th>cluster_id</th>\n",
       "      <th>cell_types</th>\n",
       "      <th>sex_label</th>\n",
       "      <th>batch_indices</th>\n",
       "      <th>cell_counts</th>\n",
       "      <th>n_genes</th>\n",
       "      <th>percent_mito</th>\n",
       "      <th>pass_count_filter</th>\n",
       "      <th>pass_mito_filter</th>\n",
       "    </tr>\n",
       "  </thead>\n",
       "  <tbody>\n",
       "    <tr>\n",
       "      <th>0</th>\n",
       "      <td>10x_VMH_Female_Control_1</td>\n",
       "      <td>4_AAACCTGAGCGCCTCA</td>\n",
       "      <td>#9162FF</td>\n",
       "      <td>Nr5a1_4</td>\n",
       "      <td>24.0</td>\n",
       "      <td>undefined</td>\n",
       "      <td>F</td>\n",
       "      <td>0</td>\n",
       "      <td>1427.0</td>\n",
       "      <td>926</td>\n",
       "      <td>13.594954</td>\n",
       "      <td>True</td>\n",
       "      <td>False</td>\n",
       "    </tr>\n",
       "    <tr>\n",
       "      <th>1</th>\n",
       "      <td>10x_VMH_Female_Control_1</td>\n",
       "      <td>4_AAACCTGCACAGTCGC</td>\n",
       "      <td>#96FF2E</td>\n",
       "      <td>Tsix_Esr1_1</td>\n",
       "      <td>3.0</td>\n",
       "      <td>undefined</td>\n",
       "      <td>F</td>\n",
       "      <td>0</td>\n",
       "      <td>4508.0</td>\n",
       "      <td>2310</td>\n",
       "      <td>9.272405</td>\n",
       "      <td>True</td>\n",
       "      <td>False</td>\n",
       "    </tr>\n",
       "    <tr>\n",
       "      <th>2</th>\n",
       "      <td>10x_VMH_Female_Control_1</td>\n",
       "      <td>4_AAACCTGCAGATTGCT</td>\n",
       "      <td>#66ABC2</td>\n",
       "      <td>Dlk1_3</td>\n",
       "      <td>16.0</td>\n",
       "      <td>undefined</td>\n",
       "      <td>F</td>\n",
       "      <td>0</td>\n",
       "      <td>3447.0</td>\n",
       "      <td>1995</td>\n",
       "      <td>5.483029</td>\n",
       "      <td>True</td>\n",
       "      <td>False</td>\n",
       "    </tr>\n",
       "    <tr>\n",
       "      <th>3</th>\n",
       "      <td>10x_VMH_Female_Control_1</td>\n",
       "      <td>4_AAACCTGCATACTCTT</td>\n",
       "      <td>#96FF2E</td>\n",
       "      <td>Tsix_Esr1_1</td>\n",
       "      <td>3.0</td>\n",
       "      <td>undefined</td>\n",
       "      <td>F</td>\n",
       "      <td>0</td>\n",
       "      <td>7004.0</td>\n",
       "      <td>3286</td>\n",
       "      <td>4.483152</td>\n",
       "      <td>True</td>\n",
       "      <td>True</td>\n",
       "    </tr>\n",
       "    <tr>\n",
       "      <th>4</th>\n",
       "      <td>10x_VMH_Female_Control_1</td>\n",
       "      <td>4_AAACCTGGTCCGTTAA</td>\n",
       "      <td>#24EFCD</td>\n",
       "      <td>Scgn</td>\n",
       "      <td>20.0</td>\n",
       "      <td>undefined</td>\n",
       "      <td>F</td>\n",
       "      <td>0</td>\n",
       "      <td>2490.0</td>\n",
       "      <td>1492</td>\n",
       "      <td>9.277108</td>\n",
       "      <td>True</td>\n",
       "      <td>False</td>\n",
       "    </tr>\n",
       "    <tr>\n",
       "      <th>...</th>\n",
       "      <td>...</td>\n",
       "      <td>...</td>\n",
       "      <td>...</td>\n",
       "      <td>...</td>\n",
       "      <td>...</td>\n",
       "      <td>...</td>\n",
       "      <td>...</td>\n",
       "      <td>...</td>\n",
       "      <td>...</td>\n",
       "      <td>...</td>\n",
       "      <td>...</td>\n",
       "      <td>...</td>\n",
       "      <td>...</td>\n",
       "    </tr>\n",
       "    <tr>\n",
       "      <th>41575</th>\n",
       "      <td>10x_VMH_Male_Social_Fear_Singly-housed_2</td>\n",
       "      <td>23_TTTGCGCTCTAACTGG</td>\n",
       "      <td>#3184F2</td>\n",
       "      <td>Satb2_3</td>\n",
       "      <td>12.0</td>\n",
       "      <td>undefined</td>\n",
       "      <td>M</td>\n",
       "      <td>25</td>\n",
       "      <td>14472.0</td>\n",
       "      <td>4853</td>\n",
       "      <td>5.983969</td>\n",
       "      <td>True</td>\n",
       "      <td>False</td>\n",
       "    </tr>\n",
       "    <tr>\n",
       "      <th>41576</th>\n",
       "      <td>10x_VMH_Male_Social_Fear_Singly-housed_2</td>\n",
       "      <td>23_TTTGGTTGTAGCGCAA</td>\n",
       "      <td>#9162FF</td>\n",
       "      <td>Nr5a1_4</td>\n",
       "      <td>24.0</td>\n",
       "      <td>undefined</td>\n",
       "      <td>M</td>\n",
       "      <td>25</td>\n",
       "      <td>2541.0</td>\n",
       "      <td>1673</td>\n",
       "      <td>3.187721</td>\n",
       "      <td>True</td>\n",
       "      <td>True</td>\n",
       "    </tr>\n",
       "    <tr>\n",
       "      <th>41577</th>\n",
       "      <td>10x_VMH_Male_Social_Fear_Singly-housed_2</td>\n",
       "      <td>23_TTTGGTTTCTGCTTGC</td>\n",
       "      <td>#5472EB</td>\n",
       "      <td>Satb2_2</td>\n",
       "      <td>11.0</td>\n",
       "      <td>undefined</td>\n",
       "      <td>M</td>\n",
       "      <td>25</td>\n",
       "      <td>4949.0</td>\n",
       "      <td>2421</td>\n",
       "      <td>9.860579</td>\n",
       "      <td>True</td>\n",
       "      <td>False</td>\n",
       "    </tr>\n",
       "    <tr>\n",
       "      <th>41578</th>\n",
       "      <td>10x_VMH_Male_Social_Fear_Singly-housed_2</td>\n",
       "      <td>23_TTTGTCACACGGCTAC</td>\n",
       "      <td>#BDDFFF</td>\n",
       "      <td>Dlk1_1</td>\n",
       "      <td>14.0</td>\n",
       "      <td>undefined</td>\n",
       "      <td>M</td>\n",
       "      <td>25</td>\n",
       "      <td>13784.0</td>\n",
       "      <td>4886</td>\n",
       "      <td>3.801509</td>\n",
       "      <td>True</td>\n",
       "      <td>True</td>\n",
       "    </tr>\n",
       "    <tr>\n",
       "      <th>41579</th>\n",
       "      <td>10x_VMH_Male_Social_Fear_Singly-housed_2</td>\n",
       "      <td>23_TTTGTCATCGTGGGAA</td>\n",
       "      <td>#34EA6C</td>\n",
       "      <td>Esr1_1</td>\n",
       "      <td>4.0</td>\n",
       "      <td>undefined</td>\n",
       "      <td>M</td>\n",
       "      <td>25</td>\n",
       "      <td>10362.0</td>\n",
       "      <td>4144</td>\n",
       "      <td>6.514186</td>\n",
       "      <td>True</td>\n",
       "      <td>False</td>\n",
       "    </tr>\n",
       "  </tbody>\n",
       "</table>\n",
       "<p>39728 rows × 13 columns</p>\n",
       "</div>"
      ],
      "text/plain": [
       "                                    sample_name         cell_barcode  \\\n",
       "0                      10x_VMH_Female_Control_1   4_AAACCTGAGCGCCTCA   \n",
       "1                      10x_VMH_Female_Control_1   4_AAACCTGCACAGTCGC   \n",
       "2                      10x_VMH_Female_Control_1   4_AAACCTGCAGATTGCT   \n",
       "3                      10x_VMH_Female_Control_1   4_AAACCTGCATACTCTT   \n",
       "4                      10x_VMH_Female_Control_1   4_AAACCTGGTCCGTTAA   \n",
       "...                                         ...                  ...   \n",
       "41575  10x_VMH_Male_Social_Fear_Singly-housed_2  23_TTTGCGCTCTAACTGG   \n",
       "41576  10x_VMH_Male_Social_Fear_Singly-housed_2  23_TTTGGTTGTAGCGCAA   \n",
       "41577  10x_VMH_Male_Social_Fear_Singly-housed_2  23_TTTGGTTTCTGCTTGC   \n",
       "41578  10x_VMH_Male_Social_Fear_Singly-housed_2  23_TTTGTCACACGGCTAC   \n",
       "41579  10x_VMH_Male_Social_Fear_Singly-housed_2  23_TTTGTCATCGTGGGAA   \n",
       "\n",
       "      cluster_color      cluster  cluster_id cell_types sex_label  \\\n",
       "0           #9162FF      Nr5a1_4        24.0  undefined         F   \n",
       "1           #96FF2E  Tsix_Esr1_1         3.0  undefined         F   \n",
       "2           #66ABC2       Dlk1_3        16.0  undefined         F   \n",
       "3           #96FF2E  Tsix_Esr1_1         3.0  undefined         F   \n",
       "4           #24EFCD         Scgn        20.0  undefined         F   \n",
       "...             ...          ...         ...        ...       ...   \n",
       "41575       #3184F2      Satb2_3        12.0  undefined         M   \n",
       "41576       #9162FF      Nr5a1_4        24.0  undefined         M   \n",
       "41577       #5472EB      Satb2_2        11.0  undefined         M   \n",
       "41578       #BDDFFF       Dlk1_1        14.0  undefined         M   \n",
       "41579       #34EA6C       Esr1_1         4.0  undefined         M   \n",
       "\n",
       "       batch_indices  cell_counts  n_genes  percent_mito  pass_count_filter  \\\n",
       "0                  0       1427.0      926     13.594954               True   \n",
       "1                  0       4508.0     2310      9.272405               True   \n",
       "2                  0       3447.0     1995      5.483029               True   \n",
       "3                  0       7004.0     3286      4.483152               True   \n",
       "4                  0       2490.0     1492      9.277108               True   \n",
       "...              ...          ...      ...           ...                ...   \n",
       "41575             25      14472.0     4853      5.983969               True   \n",
       "41576             25       2541.0     1673      3.187721               True   \n",
       "41577             25       4949.0     2421      9.860579               True   \n",
       "41578             25      13784.0     4886      3.801509               True   \n",
       "41579             25      10362.0     4144      6.514186               True   \n",
       "\n",
       "       pass_mito_filter  \n",
       "0                 False  \n",
       "1                 False  \n",
       "2                 False  \n",
       "3                  True  \n",
       "4                 False  \n",
       "...                 ...  \n",
       "41575             False  \n",
       "41576              True  \n",
       "41577             False  \n",
       "41578              True  \n",
       "41579             False  \n",
       "\n",
       "[39728 rows x 13 columns]"
      ]
     },
     "execution_count": 43,
     "metadata": {},
     "output_type": "execute_result"
    }
   ],
   "source": [
    "tenx_obs"
   ]
  },
  {
   "cell_type": "code",
   "execution_count": 6,
   "id": "competitive-decade",
   "metadata": {},
   "outputs": [],
   "source": [
    "tenx_obs = tenx_obs[to_keep]"
   ]
  },
  {
   "cell_type": "code",
   "execution_count": 7,
   "id": "tough-effort",
   "metadata": {},
   "outputs": [
    {
     "data": {
      "text/plain": [
       "(39728, 13)"
      ]
     },
     "execution_count": 7,
     "metadata": {},
     "output_type": "execute_result"
    }
   ],
   "source": [
    "tenx_obs.shape"
   ]
  },
  {
   "cell_type": "markdown",
   "id": "fifteen-cliff",
   "metadata": {},
   "source": [
    "### Take the first 1000 rows for each sample"
   ]
  },
  {
   "cell_type": "code",
   "execution_count": 8,
   "id": "thermal-affiliate",
   "metadata": {},
   "outputs": [],
   "source": [
    "to_keep = []\n",
    "to_keep_sn = []\n",
    "for a in tenx_obs.groupby(\"sample_name\"):\n",
    "    to_keep_sn.extend([a[0]]*1000)\n",
    "    to_keep.extend(a[1].index.values[0:1000])"
   ]
  },
  {
   "cell_type": "code",
   "execution_count": 9,
   "id": "exceptional-compromise",
   "metadata": {},
   "outputs": [],
   "source": [
    "to_keep = pd.DataFrame({\"n\": to_keep, \"sn\": to_keep_sn})"
   ]
  },
  {
   "cell_type": "code",
   "execution_count": 10,
   "id": "measured-cooperation",
   "metadata": {},
   "outputs": [],
   "source": [
    "sns = to_keep[\"sn\"].unique().tolist()"
   ]
  },
  {
   "cell_type": "code",
   "execution_count": 11,
   "id": "clinical-marker",
   "metadata": {},
   "outputs": [],
   "source": [
    "to_keep[\"sample_axis\"] = to_keep[\"sn\"].apply(lambda a: sns.index(a))"
   ]
  },
  {
   "cell_type": "code",
   "execution_count": 12,
   "id": "czech-threshold",
   "metadata": {},
   "outputs": [
    {
     "data": {
      "text/plain": [
       "(41580, 1999)"
      ]
     },
     "execution_count": 12,
     "metadata": {},
     "output_type": "execute_result"
    }
   ],
   "source": [
    "tenx.shape"
   ]
  },
  {
   "cell_type": "code",
   "execution_count": 13,
   "id": "continuing-account",
   "metadata": {},
   "outputs": [],
   "source": [
    "tenx = tenx[to_keep[\"n\"].values, :]"
   ]
  },
  {
   "cell_type": "markdown",
   "id": "amended-current",
   "metadata": {},
   "source": [
    "### Reshape to (sample, cell, gene)"
   ]
  },
  {
   "cell_type": "code",
   "execution_count": 38,
   "id": "electrical-train",
   "metadata": {},
   "outputs": [],
   "source": [
    "tenx = einops.rearrange(tenx, '(s c) g -> s c g', s=23, c=1000)"
   ]
  },
  {
   "cell_type": "code",
   "execution_count": 39,
   "id": "cosmetic-heavy",
   "metadata": {},
   "outputs": [
    {
     "data": {
      "text/plain": [
       "(23, 1000, 1999)"
      ]
     },
     "execution_count": 39,
     "metadata": {},
     "output_type": "execute_result"
    }
   ],
   "source": [
    "tenx.shape"
   ]
  },
  {
   "cell_type": "code",
   "execution_count": 41,
   "id": "traditional-azerbaijan",
   "metadata": {},
   "outputs": [
    {
     "data": {
      "text/plain": [
       "array([[0.        , 0.        , 0.        , ..., 0.        , 0.        ,\n",
       "        0.        ],\n",
       "       [0.        , 0.        , 0.        , ..., 0.        , 0.        ,\n",
       "        5.40639958],\n",
       "       [0.        , 0.        , 0.        , ..., 0.        , 5.67369204,\n",
       "        0.        ],\n",
       "       ...,\n",
       "       [0.        , 0.        , 0.        , ..., 0.        , 6.65517673,\n",
       "        0.        ],\n",
       "       [0.        , 0.        , 0.        , ..., 0.        , 6.65208231,\n",
       "        0.        ],\n",
       "       [0.        , 0.        , 0.        , ..., 0.        , 0.        ,\n",
       "        0.        ]])"
      ]
     },
     "execution_count": 41,
     "metadata": {},
     "output_type": "execute_result"
    }
   ],
   "source": [
    "tenx[0,:,:]"
   ]
  },
  {
   "cell_type": "code",
   "execution_count": 42,
   "id": "proud-casting",
   "metadata": {},
   "outputs": [],
   "source": [
    "np.save(\"tenx.npy\", tenx)"
   ]
  }
 ],
 "metadata": {
  "kernelspec": {
   "display_name": "Python 3",
   "language": "python",
   "name": "python3"
  },
  "language_info": {
   "codemirror_mode": {
    "name": "ipython",
    "version": 3
   },
   "file_extension": ".py",
   "mimetype": "text/x-python",
   "name": "python",
   "nbconvert_exporter": "python",
   "pygments_lexer": "ipython3",
   "version": "3.8.8"
  }
 },
 "nbformat": 4,
 "nbformat_minor": 5
}
